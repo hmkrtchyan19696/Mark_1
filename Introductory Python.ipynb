{
 "cells": [
  {
   "cell_type": "markdown",
   "metadata": {},
   "source": [
    "### Introduction to Python"
   ]
  },
  {
   "cell_type": "code",
   "execution_count": 5,
   "metadata": {},
   "outputs": [
    {
     "name": "stdout",
     "output_type": "stream",
     "text": [
      "Medium\n"
     ]
    }
   ],
   "source": [
    "x = 10\n",
    "\n",
    "if x <= 2:\n",
    "    print(\"Small\")\n",
    "elif x <= 10:\n",
    "    print(\"Medium\")\n",
    "else:\n",
    "    print(\"Large\")"
   ]
  },
  {
   "cell_type": "markdown",
   "metadata": {},
   "source": [
    "### Prime Number"
   ]
  },
  {
   "cell_type": "code",
   "execution_count": 4,
   "metadata": {},
   "outputs": [
    {
     "name": "stdout",
     "output_type": "stream",
     "text": [
      "Enter a number: 25\n",
      "25 is a composite number.\n",
      "The divisors of 25 are [1, 5, 25]\n"
     ]
    }
   ],
   "source": [
    "\n",
    "def number_of_divisors(num):\n",
    "    #calculates the number of divisors of num\n",
    "    \n",
    "    total_div = 0\n",
    "    for i in range(1,num+1):\n",
    "        if num % i == 0:\n",
    "            total_div += 1\n",
    "        if total_div > 2:\n",
    "            break\n",
    "    return total_div\n",
    "\n",
    "\n",
    "def find_divisors(num):\n",
    "    list_of_divisors = []\n",
    "    for i in range(1,num+1):\n",
    "        if num % i == 0:\n",
    "            list_of_divisors.append(i)\n",
    "            \n",
    "    return list_of_divisors\n",
    "\n",
    "\n",
    "\n",
    "pass1 = False\n",
    "\n",
    "while pass1 == False:\n",
    "    \n",
    "    try:\n",
    "        num = int(input(\"Enter a number: \"))\n",
    "    except:\n",
    "        num = \"Not integer\"\n",
    "        print(\"\\nPlease enter an integer value\")\n",
    "    \n",
    "    if isinstance(num, int):\n",
    "        pass1 = True\n",
    "        \n",
    "num_of_div = number_of_divisors(num)\n",
    "\n",
    "if num_of_div == 2:\n",
    "    print(num, \"is a Prime number.\")\n",
    "else:\n",
    "    print(f\"{num} is a composite number.\")\n",
    "    print(f\"The divisors of {num} are {find_divisors(num)}\")\n",
    "    \n"
   ]
  },
  {
   "cell_type": "markdown",
   "metadata": {},
   "source": [
    "### Loops"
   ]
  },
  {
   "cell_type": "code",
   "execution_count": 36,
   "metadata": {},
   "outputs": [
    {
     "name": "stdout",
     "output_type": "stream",
     "text": [
      "Please enter a number: done\n",
      "You have not entered any number(s). Therefore, the Average is NONE.\n"
     ]
    }
   ],
   "source": [
    "\n",
    "not_done = True\n",
    "\n",
    "count = 0\n",
    "total = 0\n",
    "avg = None\n",
    "\n",
    "while not_done:\n",
    "    \n",
    "    try:\n",
    "        inp = input(\"Please enter a number: \").upper()\n",
    "        if inp == \"DONE\" and count == 0:\n",
    "            print(\"\"\"You have not entered any number(s). Therefore, the Average is NONE.\"\"\")\n",
    "            break\n",
    "        elif inp == \"DONE\":\n",
    "            break\n",
    "        inp = float(inp)\n",
    "    except:\n",
    "        #if ~(isinstance(inp, float) or isinstance(inp, int)):\n",
    "            print(\"Please enter a number.\")\n",
    "            continue\n",
    "    \n",
    "    count += 1\n",
    "    total += inp\n",
    "\n",
    "if count != 0:\n",
    "    print(f\"\"\"\n",
    "    Total: {total}\n",
    "    Number of items: {count}\n",
    "    Average: {total/count}\"\"\")\n",
    "\n"
   ]
  },
  {
   "cell_type": "code",
   "execution_count": 42,
   "metadata": {},
   "outputs": [
    {
     "name": "stdout",
     "output_type": "stream",
     "text": [
      "18\n",
      "0.8475\n"
     ]
    }
   ],
   "source": [
    "word = 'X-DSPAM-confidence: 0.8475 '\n",
    "\n",
    "ref1 = word.find(':')\n",
    "print(ref1)\n",
    "\n",
    "num = float(word[ref1+1:].strip())\n",
    "\n",
    "print(num)"
   ]
  },
  {
   "cell_type": "markdown",
   "metadata": {},
   "source": [
    "### Opening files in computer"
   ]
  },
  {
   "cell_type": "code",
   "execution_count": 56,
   "metadata": {},
   "outputs": [
    {
     "data": {
      "text/plain": [
       "'C:\\\\Users\\\\hmkrt\\\\Desktop\\\\Python\\\\Self Development'"
      ]
     },
     "execution_count": 56,
     "metadata": {},
     "output_type": "execute_result"
    }
   ],
   "source": [
    "import os\n",
    "\n",
    "os.getcwd()"
   ]
  },
  {
   "cell_type": "code",
   "execution_count": 62,
   "metadata": {
    "collapsed": true
   },
   "outputs": [
    {
     "name": "stdout",
     "output_type": "stream",
     "text": [
      "E-gmat: login: h.mkrtchyan.19696@gmail.com\n",
      "\n",
      "\tpass: senju_hashirama.D1st\n",
      "\n",
      "\n",
      "\n",
      "Gmail (Personal) - login: h.mkrtchyan.19696@gmail.com\n",
      "\n",
      "\t           pass: senju_hashirama.19696.D1sthokage\n",
      "\n",
      "\n",
      "\n",
      "Gmail (AUA) - login: hovo_mkrtchyan18@alumni.aua.am\n",
      "\n",
      "\t      pass: Hanma_Baki.96\n",
      "\n",
      "\n",
      "\n",
      "Mail.ru - login: hovo_mkrtchyan_1996@mail.ru\n",
      "\n",
      "\t  pass: senjuhashirama1sthokage\n",
      "\n",
      "\n",
      "\n",
      "Ardshin mobile - login: HOVOMK1996\n",
      "\n",
      "\t         pass: Hanma.Baki.96\n",
      "\n",
      "\n",
      "\n",
      "Oracle Live SQL - personal gmail\n",
      "\n",
      "\n",
      "\n",
      "instagram - hovomk1996\n",
      "\n",
      "            senju_hashirama.D1sthokage\n",
      "\n",
      "\n",
      "\n",
      "HackerRank - h.mkrtchyan.19696@gmail.com\n",
      "\n",
      "             senju_hashirama.D1sthokage\n",
      "\n",
      "\n",
      "\n",
      "steam - miyamotosword\n",
      "\n",
      "\tcollofduti4\n",
      "\n",
      "\n",
      "\n",
      "GIT - h.mkrtchyan.19696@gmail.com\n",
      "\n",
      "\tsenju_hashirama.19696.D1sthokage\n",
      "\n",
      "\n",
      "\n",
      "Warcode - linked to GIT\n",
      "\n",
      "\n",
      "\n",
      "Upwork - h.mkrtchyan.19696@gmail.com\n",
      "\n",
      "\tuser - hmkrtchyan19696\n",
      "\n",
      "\tpass - senju_hashirama.D1sthokage\n",
      "\n",
      "\n",
      "\n",
      "Brilliant - h.mkrtchyan.19696@gmail.com\n",
      "\n",
      "\t    senju_hashirama.D1sthokage\n",
      "\n",
      "\n",
      "\n",
      "Kaggle - h.mkrtchyan.19696@gmail.com\n",
      "\n",
      "\t pass: senju_hashirama.19696.D1sthokage\n",
      "\n",
      "\n",
      "\n",
      "Staff.am - h.mkrtchyan.19696@gmail.com\n",
      "\n",
      "\t    senju_hashirama.D1sthokage\n",
      "\n",
      "\n",
      "\n",
      "Calendly - h-mkrtchyan-19696 : linked with google account\n",
      "\n",
      "\n",
      "\n",
      "USC - login: h.mkrtchyan.19696\n",
      "\n",
      "      pass: senju_hashirama.D1sthokage\n",
      "\n",
      "\n",
      "\n",
      "Texas at Austin - UT EID: hm26534\n",
      "\n",
      "\t          pass: senju.hashirama.D1sthokage\n",
      "\n",
      "\n",
      "\n",
      "Duke - h.mkrtchyan.1996\n",
      "\n",
      "       pass: senju_hashirama.D1sthokage\n",
      "\n",
      "\n",
      "\n",
      "Edx - h_mkrtchyan_1996\n",
      "\n",
      "      pass: senju_hashirama.D1sthokage\n",
      "\n"
     ]
    }
   ],
   "source": [
    "with open(\"C:\\\\Users\\\\hmkrt\\\\Desktop\\\\Books\\\\Passwords.txt\", 'r') as f:\n",
    "    for line in f:\n",
    "        print(line)"
   ]
  },
  {
   "cell_type": "markdown",
   "metadata": {},
   "source": [
    "### Counting the most common word in text"
   ]
  },
  {
   "cell_type": "code",
   "execution_count": 13,
   "metadata": {},
   "outputs": [
    {
     "name": "stdout",
     "output_type": "stream",
     "text": [
      "Please enter the text to find the most common word in it.\n",
      "Built-in Types The following sections describe the standard types that are built into the interpreter.  The principal built-in types are numerics, sequences, mappings, classes, instances and exceptions.  Some collection classes are mutable. The methods that add, subtract, or rearrange their members in place, and don’t return a specific item, never return the collection instance itself but None.  Some operations are supported by several object types; in particular, practically all objects can be compared for equality, tested for truth value, and converted to a string (with the repr() function or the slightly different str() function). The latter function is implicitly used when an object is written by the print() function.  Truth Value Testing Any object can be tested for truth value, for use in an if or while condition or as operand of the Boolean operations below.  By default, an object is considered true unless its class defines either a __bool__() method that returns False or a __len__() method that returns zero, when called with the object. 1 Here are most of the built-in objects considered false:  constants defined to be false: None and False.  zero of any numeric type: 0, 0.0, 0j, Decimal(0), Fraction(0, 1)  empty sequences and collections: '', (), [], {}, set(), range(0)  Operations and built-in functions that have a Boolean result always return 0 or False for false and 1 or True for true, unless otherwise stated. (Important exception: the Boolean operations or and and always return one of their operands.)\n",
      "\n",
      "The most common word in the text is 'the' with 10 instances.\n"
     ]
    }
   ],
   "source": [
    "\n",
    "words = dict()\n",
    "\n",
    "text = input(\"Please enter a text to find the most common word in it.\\n\")\n",
    "text = text.split(\" \")\n",
    "# print(text)\n",
    "\n",
    "for word in text:\n",
    "    words[word] = words.get(word, 0) + 1    \n",
    "# print(words)\n",
    "\n",
    "most_count = 0\n",
    "most_word = None\n",
    "\n",
    "for key, item in words.items():\n",
    "    if item > most_count:\n",
    "        most_count = item\n",
    "        most_word = key\n",
    "        \n",
    "print(f\"\\nThe most common word in the text is '{most_word}' with {most_count} instances.\")"
   ]
  },
  {
   "cell_type": "markdown",
   "metadata": {},
   "source": [
    "### Dictionary example"
   ]
  },
  {
   "cell_type": "code",
   "execution_count": 32,
   "metadata": {},
   "outputs": [
    {
     "name": "stdout",
     "output_type": "stream",
     "text": [
      "3\n",
      "Hovo 96 24 15\n",
      "Arsen 69 85\n",
      "Harut 21 56 1000 15\n",
      "Name:  Hovo ; Average grade:  45.00\n",
      "Name:  Arsen ; Average grade:  77.00\n",
      "Name:  Harut ; Average grade:  273.00\n"
     ]
    }
   ],
   "source": [
    "names_grades = {}\n",
    "\n",
    "for _ in range(int(input())):\n",
    "    name, *line = input().split()\n",
    "    line = [int(elem) for elem in line]\n",
    "    names_grades[name] = line\n",
    "\n",
    "for person, grade in names_grades.items():    \n",
    "    print(\"Name: \", person, \"; Average grade: \", \"{:.2f}\".format((sum(names_grades[person])/(len(names_grades[person])))))"
   ]
  },
  {
   "cell_type": "code",
   "execution_count": 42,
   "metadata": {},
   "outputs": [
    {
     "name": "stdout",
     "output_type": "stream",
     "text": [
      "Hovo [96, 24, 15]\n",
      "Arsen [69, 85]\n",
      "Harut [21, 56, 1000, 15]\n"
     ]
    }
   ],
   "source": [
    "for n,k in names_grades.items():\n",
    "    print(n,k)"
   ]
  },
  {
   "cell_type": "code",
   "execution_count": 46,
   "metadata": {},
   "outputs": [
    {
     "name": "stdout",
     "output_type": "stream",
     "text": [
      "132 456 Wq  m e\n",
      "132 456 Wq M E\n"
     ]
    }
   ],
   "source": [
    "def solve(s):\n",
    "    char = s.split()\n",
    "    for i in range(len(char)):\n",
    "        char[i] = char[i].capitalize()\n",
    "    capitalized = (\" \").join(char)\n",
    "    return capitalized\n",
    "\n",
    "s = input()\n",
    "cap = solve(s)\n",
    "print(cap)"
   ]
  },
  {
   "cell_type": "markdown",
   "metadata": {},
   "source": [
    "### Performing operations on Lists"
   ]
  },
  {
   "cell_type": "code",
   "execution_count": 52,
   "metadata": {},
   "outputs": [
    {
     "name": "stdout",
     "output_type": "stream",
     "text": [
      "3\n",
      "insert 0 10\n",
      "insert 1 12\n",
      "print\n",
      "[10, 12]\n"
     ]
    }
   ],
   "source": [
    "\n",
    "if __name__ == '__main__':\n",
    "    \n",
    "    def ins(i,e):\n",
    "        my_list.insert(i,e)\n",
    "        \n",
    "    def delet(e):\n",
    "        my_list.remove(e)\n",
    "        \n",
    "    def app(e):\n",
    "        my_list.append(e)\n",
    "        \n",
    "    def po(l):\n",
    "        if len(l) > 0:\n",
    "            my_list.pop(-1)\n",
    "        else:\n",
    "            print(my_list)\n",
    "        \n",
    "    def rev(l):\n",
    "        my_list.reverse()\n",
    "        \n",
    "    def srt(l):\n",
    "        my_list.sort()\n",
    "        \n",
    "    N = int(input())\n",
    "    my_list = []\n",
    "    \n",
    "    for _ in range(N):\n",
    "        comm = input().split()\n",
    "        \n",
    "        if comm[0] == \"insert\":\n",
    "            pos = int(comm[1])\n",
    "            integer = int(comm[2])\n",
    "            ins(pos,integer)\n",
    "            \n",
    "        if comm[0] == \"print\":\n",
    "            print(my_list)\n",
    "            \n",
    "        if comm[0] == \"remove\":\n",
    "            integer = int(comm[1])\n",
    "            delet(integer)\n",
    "            \n",
    "        if comm[0] == 'append':\n",
    "            integer = int(comm[1])\n",
    "            app(integer)\n",
    "            \n",
    "        if comm[0] == \"pop\":\n",
    "            po(my_list)\n",
    "            \n",
    "        if comm[0] == \"sort\":\n",
    "            srt(my_list)\n",
    "        \n",
    "        if comm[0] == \"reverse\":\n",
    "            rev(my_list)\n"
   ]
  },
  {
   "cell_type": "markdown",
   "metadata": {},
   "source": [
    "### Minion Game"
   ]
  },
  {
   "cell_type": "code",
   "execution_count": 57,
   "metadata": {},
   "outputs": [
    {
     "name": "stdout",
     "output_type": "stream",
     "text": [
      "MADAGASCAR\n",
      "Stuart 32\n"
     ]
    }
   ],
   "source": [
    "\n",
    "def minion_game(string):\n",
    "    s = len(string)\n",
    "    kevin_score, stuart_score = 0, 0\n",
    "    \n",
    "    for i in range(s):\n",
    "        if string[i] in 'AEIOU':\n",
    "                kevin_score += s - i\n",
    "        else:\n",
    "            stuart_score += s - i\n",
    "    \n",
    "    if kevin_score == stuart_score:\n",
    "        print(\"Draw\")\n",
    "    elif kevin_score > stuart_score:\n",
    "        print('Kevin', kevin_score)\n",
    "    else:\n",
    "        print(\"Stuart\", stuart_score)\n",
    "\n",
    "if __name__ == '__main__':\n",
    "    s = input() \n",
    "    minion_game(s)"
   ]
  }
 ],
 "metadata": {
  "kernelspec": {
   "display_name": "Python 3",
   "language": "python",
   "name": "python3"
  },
  "language_info": {
   "codemirror_mode": {
    "name": "ipython",
    "version": 3
   },
   "file_extension": ".py",
   "mimetype": "text/x-python",
   "name": "python",
   "nbconvert_exporter": "python",
   "pygments_lexer": "ipython3",
   "version": "3.8.3"
  }
 },
 "nbformat": 4,
 "nbformat_minor": 4
}
