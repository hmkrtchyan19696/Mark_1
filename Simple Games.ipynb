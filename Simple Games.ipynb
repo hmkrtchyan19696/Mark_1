{
 "cells": [
  {
   "cell_type": "markdown",
   "metadata": {},
   "source": [
    "### Number Guesser"
   ]
  },
  {
   "cell_type": "code",
   "execution_count": null,
   "metadata": {},
   "outputs": [],
   "source": [
    "import time\n",
    "\n",
    "count = 1\n",
    "\n",
    "lower_limit = 0\n",
    "upper_limit = 1000\n",
    "\n",
    "print(\"\"\"Welcome to number guesser! Think of a number between 0 and 1000 inclusive and I'll guess your number in at most 10 steps. \n",
    "If the number that you have thought of is bigger than my guess please type '+' \n",
    "If the number is lower than my prediction, type '-'\n",
    "If I managed to successfully guess the number, please type '=' to end the game.'\"\"\")\n",
    "\n",
    "while count <= 10:\n",
    "    \n",
    "    guessed_num = (lower_limit + upper_limit)//2\n",
    "    \n",
    "    print(f'\\nTry #{count}\\nMy guess is ',guessed_num)\n",
    "    \n",
    "    actual = input(\"Please type +,- or = \")\n",
    "    if actual not in ['+', '-', '=']:\n",
    "        print(\"\\nPlease type a valid input (+,- or =)\\n\")\n",
    "        time.sleep(2) # wait for 2 seconds\n",
    "        continue\n",
    "    \n",
    "    if actual == \"=\":\n",
    "        print('\\nThe number that you thought of is', guessed_num,f'\\nI guessed in {count} try/tries.')\n",
    "        break\n",
    "    else:\n",
    "        if actual == \"-\":\n",
    "            upper_limit = guessed_num\n",
    "        elif actual == \"+\":\n",
    "            lower_limit = guessed_num + 1\n",
    "    count += 1\n",
    "\n",
    "if count > 10:\n",
    "    print('\\nI couldn\\'t guess your number! You must have cheated somewhere in the process.')"
   ]
  },
  {
   "cell_type": "markdown",
   "metadata": {},
   "source": [
    "### Wordle"
   ]
  },
  {
   "cell_type": "code",
   "execution_count": null,
   "metadata": {},
   "outputs": [],
   "source": [
    "import random\n",
    "\n",
    "with open('fruits.txt','r') as f:\n",
    "    lines = f.readlines()\n",
    "    num = random.randint(0,len(lines)-1)\n",
    "    if num == len(lines)-1:\n",
    "        word = lines[num].upper()\n",
    "    else:\n",
    "        word = lines[num][:-1].upper()\n",
    "\n",
    "\n",
    "letters = [elem for elem in word]\n",
    "mistakes = 5\n",
    "predict = '_'*len(word)\n",
    "\n",
    "print(f'''Welcome to the fruit name guessing competition. \\nThe word consists of {len(word)} letters.\\n\n",
    "You have 5 chances to guess the name of the fruit.''')\n",
    "\n",
    "while mistakes >= 1:\n",
    "    if word == predict:\n",
    "        print(f\"{predict}\\nYou have won the game\")\n",
    "        break\n",
    "    print(f\"Guess the word. {mistakes} mistake(s) left.\\n{predict}\")\n",
    "\n",
    "    user_input = input(\"Guess a letter: \").upper()\n",
    "    if user_input in letters:\n",
    "        for index,value in enumerate(letters):\n",
    "            if value == user_input:\n",
    "                predict = predict[:index] + user_input + predict[index+1:]\n",
    "                letters[index] = 0\n",
    "                break\n",
    "    else:\n",
    "        mistakes -= 1\n",
    "        \n",
    "if mistakes == 0:\n",
    "    print(f\"You have lost the game. The name of the fruit was {word}\")"
   ]
  }
 ],
 "metadata": {
  "kernelspec": {
   "display_name": "Python 3",
   "language": "python",
   "name": "python3"
  },
  "language_info": {
   "codemirror_mode": {
    "name": "ipython",
    "version": 3
   },
   "file_extension": ".py",
   "mimetype": "text/x-python",
   "name": "python",
   "nbconvert_exporter": "python",
   "pygments_lexer": "ipython3",
   "version": "3.8.3"
  }
 },
 "nbformat": 4,
 "nbformat_minor": 4
}
