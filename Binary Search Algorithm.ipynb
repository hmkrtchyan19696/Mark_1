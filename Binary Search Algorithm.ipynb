{
 "cells": [
  {
   "cell_type": "markdown",
   "metadata": {},
   "source": [
    "### Binary Search"
   ]
  },
  {
   "cell_type": "code",
   "execution_count": 1,
   "metadata": {},
   "outputs": [
    {
     "name": "stdout",
     "output_type": "stream",
     "text": [
      "Array:  [2, 5, 62, 5.5, 42, 52.98, 48, 5]\n",
      "Sorted Array:  [2, 5, 5, 5.5, 42, 48, 52.98, 62]\n",
      "Enter the target value: 6\n"
     ]
    },
    {
     "data": {
      "text/plain": [
       "False"
      ]
     },
     "execution_count": 1,
     "metadata": {},
     "output_type": "execute_result"
    }
   ],
   "source": [
    "\n",
    "def binarysearch(sortedarray, targetval):\n",
    "    minindex = 0\n",
    "    maxindex = len(sortedarray) - 1\n",
    "    \n",
    "    power = poweroftwo(len(sortedarray))\n",
    "    \n",
    "    for i in range(power):\n",
    "        if targetval == sortedarray[(minindex + maxindex)//2]:\n",
    "            return True\n",
    "        elif targetval > sortedarray[(minindex + maxindex)//2]:\n",
    "            minindex = (minindex + maxindex)//2 + 1\n",
    "        else:\n",
    "            maxindex = (minindex + maxindex)//2\n",
    "            \n",
    "    return False\n",
    "    \n",
    "\n",
    "def poweroftwo(number):\n",
    "    n = 1\n",
    "    while 2**n <= number:\n",
    "        n += 1\n",
    "    \n",
    "    return n\n",
    "\n",
    "\n",
    "def selectionsort(array):\n",
    "    \n",
    "    for i in range(len(array)-1):\n",
    "        smallestindex = i\n",
    "        for j in range(i+1,len(array)):\n",
    "            if array[smallestindex] > array[j]:\n",
    "                smallestindex = j\n",
    "        array[smallestindex], array[i] = array[i], array[smallestindex]\n",
    "        \n",
    "    return array\n",
    "\n",
    "array = [2, 5, 62, 5.5, 42, 52.98, 48, 5]\n",
    "    \n",
    "print(\"Array: \", array)\n",
    "\n",
    "sortedarray = selectionsort(array)\n",
    "\n",
    "print(\"Sorted Array: \", sortedarray)\n",
    "\n",
    "targetVal = float(input(\"Enter the target value: \"))\n",
    "\n",
    "binarysearch(sortedarray, targetVal)"
   ]
  }
 ],
 "metadata": {
  "kernelspec": {
   "display_name": "Python 3",
   "language": "python",
   "name": "python3"
  },
  "language_info": {
   "codemirror_mode": {
    "name": "ipython",
    "version": 3
   },
   "file_extension": ".py",
   "mimetype": "text/x-python",
   "name": "python",
   "nbconvert_exporter": "python",
   "pygments_lexer": "ipython3",
   "version": "3.8.3"
  }
 },
 "nbformat": 4,
 "nbformat_minor": 4
}
