{
 "cells": [
  {
   "cell_type": "markdown",
   "metadata": {},
   "source": [
    "### Initializing a random array"
   ]
  },
  {
   "cell_type": "code",
   "execution_count": 27,
   "metadata": {},
   "outputs": [
    {
     "data": {
      "text/plain": [
       "[73, 4, 54, 61, 73, 1, 26, 59, 62, 35]"
      ]
     },
     "execution_count": 27,
     "metadata": {},
     "output_type": "execute_result"
    }
   ],
   "source": [
    "import random\n",
    "\n",
    "random.seed(10) # setting seed so that the results are reproducible\n",
    "my_list = [random.randint(0, 100) for i in range(10)] # a list of 10 random integers between 0 and 100\n",
    "\n",
    "my_list"
   ]
  },
  {
   "cell_type": "markdown",
   "metadata": {},
   "source": [
    "### Bubble Sort"
   ]
  },
  {
   "cell_type": "code",
   "execution_count": 28,
   "metadata": {},
   "outputs": [
    {
     "data": {
      "text/plain": [
       "[1, 4, 26, 35, 54, 59, 61, 62, 73, 73]"
      ]
     },
     "execution_count": 28,
     "metadata": {},
     "output_type": "execute_result"
    }
   ],
   "source": [
    "\n",
    "def Bubble_Sort(lst):\n",
    "    lst_copy = lst.copy() # copying the existing list because lists are mutable and the changes will be also made on the original list\n",
    "    unsorted = True\n",
    "    \n",
    "    while unsorted:\n",
    "        unsorted = False\n",
    "        \n",
    "        for i in range(len(lst_copy)-1):\n",
    "            if lst_copy[i] > lst_copy[i+1]:\n",
    "                lst_copy[i], lst_copy[i+1] = lst_copy[i+1], lst_copy[i]\n",
    "                unsorted = True\n",
    "    return lst_copy\n",
    "\n",
    "sorted_list = Bubble_Sort(my_list)\n",
    "sorted_list"
   ]
  },
  {
   "cell_type": "markdown",
   "metadata": {},
   "source": [
    "### Selection Sort"
   ]
  },
  {
   "cell_type": "code",
   "execution_count": 31,
   "metadata": {},
   "outputs": [
    {
     "data": {
      "text/plain": [
       "[1, 4, 26, 35, 54, 59, 61, 62, 73, 73]"
      ]
     },
     "execution_count": 31,
     "metadata": {},
     "output_type": "execute_result"
    }
   ],
   "source": [
    "\n",
    "def Selection_Sort(lst):\n",
    "    lst_copy = lst.copy()\n",
    "    \n",
    "    for i in range(len(lst_copy)):\n",
    "        smallest_ind = i\n",
    "        for j in range(i+1,len(lst_copy)):\n",
    "            if lst_copy[smallest_ind] > lst_copy[j]:\n",
    "                smallest_ind = j\n",
    "        lst_copy[smallest_ind], lst_copy[i] = lst_copy[i], lst_copy[smallest_ind]\n",
    "        \n",
    "    return lst_copy\n",
    "\n",
    "sorted_list = Selection_Sort(my_list)\n",
    "sorted_list"
   ]
  },
  {
   "cell_type": "markdown",
   "metadata": {},
   "source": [
    "### Merge Sort"
   ]
  },
  {
   "cell_type": "code",
   "execution_count": 34,
   "metadata": {},
   "outputs": [
    {
     "data": {
      "text/plain": [
       "[1, 26, 59, 62, 35, 73, 4, 54, 61, 73]"
      ]
     },
     "execution_count": 34,
     "metadata": {},
     "output_type": "execute_result"
    }
   ],
   "source": [
    "\n",
    "def Merge_Sort(lst):\n",
    "    lst_copy = lst.copy()\n",
    "    \n",
    "    if len(lst_copy) > 1:\n",
    "        \n",
    "        mid = len(lst_copy)//2\n",
    "        L = lst_copy[:mid]\n",
    "        R = lst_copy[mid:]\n",
    "        Merge_Sort(L)\n",
    "        Merge_Sort(R)\n",
    "        head_L, head_R, i = 0, 0, 0\n",
    "        \n",
    "        while head_L < len(L) and head_R < len(R):\n",
    "            if L[head_L] < R[head_R]:\n",
    "                lst_copy[i] = L[head_L]\n",
    "                head_L += 1\n",
    "            else:\n",
    "                lst_copy[i] = R[head_R]\n",
    "                head_R += 1\n",
    "            i += 1\n",
    "            \n",
    "        while head_L < len(L):\n",
    "            lst_copy[i] = L[head_L]\n",
    "            head_L += 1\n",
    "            i += 1\n",
    "            \n",
    "        while head_R < len(R):\n",
    "            lst_copy[i] = R[head_R]\n",
    "            head_R += 1\n",
    "            i += 1\n",
    "            \n",
    "    return lst_copy\n",
    "            \n",
    "sorted_list = Merge_Sort(my_list)\n",
    "sorted_list"
   ]
  },
  {
   "cell_type": "code",
   "execution_count": null,
   "metadata": {},
   "outputs": [],
   "source": []
  }
 ],
 "metadata": {
  "kernelspec": {
   "display_name": "Python 3",
   "language": "python",
   "name": "python3"
  },
  "language_info": {
   "codemirror_mode": {
    "name": "ipython",
    "version": 3
   },
   "file_extension": ".py",
   "mimetype": "text/x-python",
   "name": "python",
   "nbconvert_exporter": "python",
   "pygments_lexer": "ipython3",
   "version": "3.8.3"
  }
 },
 "nbformat": 4,
 "nbformat_minor": 4
}
